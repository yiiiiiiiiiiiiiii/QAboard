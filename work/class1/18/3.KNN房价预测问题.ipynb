{
 "cells": [
  {
   "cell_type": "code",
   "execution_count": 47,
   "metadata": {},
   "outputs": [],
   "source": [
    "import numpy as np\n",
    "import pandas as pd \n",
    "\n",
    "from sklearn.preprocessing import MinMaxScaler\n",
    "from sklearn.model_selection import train_test_split\n",
    "from sklearn.model_selection import GridSearchCV\n",
    "from sklearn.neighbors import KNeighborsRegressor as KNNR"
   ]
  },
  {
   "cell_type": "markdown",
   "metadata": {},
   "source": [
    "#### 加载数据集"
   ]
  },
  {
   "cell_type": "code",
   "execution_count": 21,
   "metadata": {},
   "outputs": [],
   "source": [
    "# 加载标题\n",
    "with open(\"./housingPrice/readme.txt.txt\", encoding='UTF8') as fr:\n",
    "    columns = fr.readlines() \n",
    "\n",
    "columns = [x.split(\" \")[0] for x in columns]"
   ]
  },
  {
   "cell_type": "code",
   "execution_count": 25,
   "metadata": {},
   "outputs": [],
   "source": [
    "data = pd.read_csv(\"./housingPrice/housing.data.txt\", sep='\\\\s+', header=None)\n",
    "data.columns = columns"
   ]
  },
  {
   "cell_type": "markdown",
   "metadata": {},
   "source": [
    "#### 拆分特征和标签列"
   ]
  },
  {
   "cell_type": "code",
   "execution_count": 30,
   "metadata": {},
   "outputs": [],
   "source": [
    "features, labels = data.drop('MEDV', axis=1), data.MEDV"
   ]
  },
  {
   "cell_type": "markdown",
   "metadata": {},
   "source": [
    "#### 拆分训练集和测试集"
   ]
  },
  {
   "cell_type": "code",
   "execution_count": 32,
   "metadata": {},
   "outputs": [],
   "source": [
    "train, test, train_label, test_label = train_test_split(features, labels, test_size=0.2)"
   ]
  },
  {
   "cell_type": "markdown",
   "metadata": {},
   "source": [
    "##### 数据归一化"
   ]
  },
  {
   "cell_type": "code",
   "execution_count": 43,
   "metadata": {},
   "outputs": [],
   "source": [
    "scalar = MinMaxScaler()\n",
    "scalar.fit(train)\n",
    "\n",
    "train_scalar = scalar.transform(train)\n",
    "test_scalar = scalar.transform(test)"
   ]
  },
  {
   "cell_type": "markdown",
   "metadata": {},
   "source": [
    "#### 网格搜索查询最佳参数组合"
   ]
  },
  {
   "cell_type": "code",
   "execution_count": 52,
   "metadata": {},
   "outputs": [
    {
     "data": {
      "text/plain": [
       "GridSearchCV(cv=5, error_score='raise-deprecating',\n",
       "             estimator=KNeighborsRegressor(algorithm='brute', leaf_size=30,\n",
       "                                           metric='minkowski',\n",
       "                                           metric_params=None, n_jobs=None,\n",
       "                                           n_neighbors=5, p=2,\n",
       "                                           weights='uniform'),\n",
       "             iid='warn', n_jobs=None,\n",
       "             param_grid={'n_neighbors': [3, 4, 5, 6, 7, 8, 9], 'p': [1, 2]},\n",
       "             pre_dispatch='2*n_jobs', refit=True, return_train_score=False,\n",
       "             scoring='neg_mean_squared_error', verbose=0)"
      ]
     },
     "execution_count": 52,
     "metadata": {},
     "output_type": "execute_result"
    }
   ],
   "source": [
    "# 网格搜索寻找最佳参数\n",
    "parmas = {'n_neighbors': [3, 4, 5, 6, 7, 8, 9], 'p': [1, 2]}\n",
    "model = KNNR(algorithm='brute', metric='minkowski')\n",
    "grid_search = GridSearchCV(model, parmas, cv=5, scoring='neg_mean_squared_error')\n",
    "\n",
    "grid_search.fit(train, train_label)"
   ]
  },
  {
   "cell_type": "code",
   "execution_count": 53,
   "metadata": {},
   "outputs": [
    {
     "data": {
      "text/plain": [
       "{'n_neighbors': 5, 'p': 1}"
      ]
     },
     "execution_count": 53,
     "metadata": {},
     "output_type": "execute_result"
    }
   ],
   "source": [
    "# 查看最佳参数\n",
    "best_params = grid_search.best_params_\n",
    "best_params"
   ]
  },
  {
   "cell_type": "code",
   "execution_count": 55,
   "metadata": {},
   "outputs": [
    {
     "data": {
      "text/plain": [
       "-35.9622297029703"
      ]
     },
     "execution_count": 55,
     "metadata": {},
     "output_type": "execute_result"
    }
   ],
   "source": [
    "# 查看最佳得分\n",
    "best_score = grid_search.best_score_\n",
    "best_score"
   ]
  },
  {
   "cell_type": "markdown",
   "metadata": {},
   "source": [
    "#### 使用最佳参数训练模型"
   ]
  },
  {
   "cell_type": "code",
   "execution_count": 57,
   "metadata": {},
   "outputs": [
    {
     "data": {
      "text/plain": [
       "KNeighborsRegressor(algorithm='brute', leaf_size=30, metric='minkowski',\n",
       "                    metric_params=None, n_jobs=None, n_neighbors=5, p=1,\n",
       "                    weights='uniform')"
      ]
     },
     "execution_count": 57,
     "metadata": {},
     "output_type": "execute_result"
    }
   ],
   "source": [
    "knnr_model = KNNR(algorithm='brute', metric='minkowski', **best_params)\n",
    "knnr_model.fit(train, train_label)"
   ]
  },
  {
   "cell_type": "code",
   "execution_count": 59,
   "metadata": {},
   "outputs": [
    {
     "data": {
      "text/plain": [
       "array([22.22, 20.62, 23.54, 21.28, 24.7 , 13.36, 20.08, 29.7 , 12.98,\n",
       "       22.18, 28.12, 27.78, 23.5 , 20.48, 28.6 , 40.6 , 44.2 , 18.  ,\n",
       "       27.98, 20.44, 44.58, 24.02, 18.82, 34.16, 10.  , 30.94, 27.58,\n",
       "       15.14, 24.5 , 28.34, 11.16, 33.7 , 31.24, 16.48, 17.14, 22.74,\n",
       "       37.48, 13.8 , 16.54, 39.14, 19.36, 21.08, 32.96, 27.32, 14.48,\n",
       "       32.96, 37.42, 13.42, 26.7 , 20.72, 21.68, 28.26, 34.8 , 13.66,\n",
       "       29.04, 23.26, 20.12, 17.66, 19.9 , 24.7 , 13.42, 23.58, 20.72,\n",
       "       12.98, 21.82, 15.08, 22.86, 20.72, 27.52, 37.1 , 21.2 , 28.92,\n",
       "       24.06, 28.88, 19.38, 17.96, 14.8 , 24.1 , 20.82, 25.96, 20.8 ,\n",
       "       11.98, 28.24, 12.6 , 18.48, 19.72, 40.6 , 15.  , 22.3 , 23.22,\n",
       "       18.06, 25.62, 25.16, 13.96, 20.72, 23.52, 23.02, 14.7 , 20.8 ,\n",
       "       29.54, 19.38, 27.34])"
      ]
     },
     "execution_count": 59,
     "metadata": {},
     "output_type": "execute_result"
    }
   ],
   "source": [
    "knnr_model.predict(test)"
   ]
  },
  {
   "cell_type": "code",
   "execution_count": 63,
   "metadata": {},
   "outputs": [
    {
     "data": {
      "text/plain": [
       "array([20. , 22.2, 28.1, 17.4, 18.7, 12.5, 19. , 29.1, 14.1, 29.8, 22.8,\n",
       "       28.7, 27.1, 19.3, 28.2, 36.5, 31.6, 15.2, 26.7, 15. , 30.7, 50. ,\n",
       "       16.5, 29.8,  5.6, 29.1, 19.4, 14.6, 22.3, 24.1, 10.2, 24.5, 23.3,\n",
       "       17.8, 14.5, 23.3, 50. , 12.7, 19.9, 33.8, 19.8, 23.9, 32.9, 23.5,\n",
       "       13.5, 34.9, 50. , 18.4, 18.9, 19.5, 22.5, 32. , 48.3, 16.4, 35.2,\n",
       "       11.8, 22.6, 18. , 22.9, 23.4,  8.5, 22.6, 20.4, 16.1, 23.1, 16.7,\n",
       "       22.2, 19.5, 23.1, 50. , 19.4, 16. , 32.2, 33.3, 18.8, 14.2, 27.5,\n",
       "       23.9, 17.7, 23.1, 19.5,  9.5, 24.8, 12.7, 23. , 21.2, 36. , 17.1,\n",
       "       34.7, 23.7, 18.4, 26.6, 28.4, 14.8, 19.3, 11.9, 20.4, 10.2, 19.9,\n",
       "       50. , 20.3, 29. ])"
      ]
     },
     "execution_count": 63,
     "metadata": {},
     "output_type": "execute_result"
    }
   ],
   "source": [
    "test_label.values"
   ]
  },
  {
   "cell_type": "code",
   "execution_count": null,
   "metadata": {},
   "outputs": [],
   "source": []
  },
  {
   "cell_type": "code",
   "execution_count": null,
   "metadata": {},
   "outputs": [],
   "source": []
  },
  {
   "cell_type": "code",
   "execution_count": null,
   "metadata": {},
   "outputs": [],
   "source": []
  },
  {
   "cell_type": "code",
   "execution_count": null,
   "metadata": {},
   "outputs": [],
   "source": []
  }
 ],
 "metadata": {
  "kernelspec": {
   "display_name": "Python 3",
   "language": "python",
   "name": "python3"
  },
  "language_info": {
   "codemirror_mode": {
    "name": "ipython",
    "version": 3
   },
   "file_extension": ".py",
   "mimetype": "text/x-python",
   "name": "python",
   "nbconvert_exporter": "python",
   "pygments_lexer": "ipython3",
   "version": "3.7.4"
  },
  "toc": {
   "base_numbering": 1,
   "nav_menu": {},
   "number_sections": true,
   "sideBar": true,
   "skip_h1_title": false,
   "title_cell": "Table of Contents",
   "title_sidebar": "Contents",
   "toc_cell": false,
   "toc_position": {},
   "toc_section_display": true,
   "toc_window_display": false
  }
 },
 "nbformat": 4,
 "nbformat_minor": 2
}
