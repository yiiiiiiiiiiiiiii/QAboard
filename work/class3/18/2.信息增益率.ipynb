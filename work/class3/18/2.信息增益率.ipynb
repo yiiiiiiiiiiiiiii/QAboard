{
 "cells": [
  {
   "cell_type": "markdown",
   "metadata": {},
   "source": [
    "#### 导入工具包"
   ]
  },
  {
   "cell_type": "code",
   "execution_count": 1,
   "metadata": {},
   "outputs": [],
   "source": [
    "import math\n",
    "import numpy as np\n",
    "import pandas as pd\n",
    "import matplotlib.pyplot as plt\n",
    "\n",
    "from math import log\n",
    "from collections import Counter"
   ]
  },
  {
   "cell_type": "markdown",
   "metadata": {},
   "source": [
    "#### 创建数据集"
   ]
  },
  {
   "cell_type": "code",
   "execution_count": 2,
   "metadata": {},
   "outputs": [],
   "source": [
    "def create_data():\n",
    "    # 创建数据集\n",
    "    datasets = [['青年', '否', '否', '一般', '否'],\n",
    "               ['青年', '否', '否', '好', '否'],\n",
    "               ['青年', '是', '否', '好', '是'],\n",
    "               ['青年', '是', '是', '一般', '是'],\n",
    "               ['青年', '否', '否', '一般', '否'],\n",
    "               ['中年', '否', '否', '一般', '否'],\n",
    "               ['中年', '否', '否', '好', '否'],\n",
    "               ['中年', '是', '是', '好', '是'],\n",
    "               ['中年', '否', '是', '非常好', '是'],\n",
    "               ['中年', '否', '是', '非常好', '是'],\n",
    "               ['老年', '否', '是', '非常好', '是'],\n",
    "               ['老年', '否', '是', '好', '是'],\n",
    "               ['老年', '是', '否', '好', '是'],\n",
    "               ['老年', '是', '否', '非常好', '是'],\n",
    "               ['老年', '否', '否', '一般', '否'],\n",
    "               ]\n",
    "    # 给出数据集的列名称\n",
    "    labels = [u'年龄', u'有工作', u'有自己的房子', u'信贷情况', u'类别']\n",
    "    \n",
    "    return datasets, labels"
   ]
  },
  {
   "cell_type": "code",
   "execution_count": 3,
   "metadata": {},
   "outputs": [],
   "source": [
    "datasets, labels = create_data()\n",
    "train_data = pd.DataFrame(datasets, columns=labels)"
   ]
  },
  {
   "cell_type": "markdown",
   "metadata": {},
   "source": [
    "#### 计算信息增益"
   ]
  },
  {
   "cell_type": "markdown",
   "metadata": {},
   "source": [
    "#####  计算信息熵"
   ]
  },
  {
   "cell_type": "code",
   "execution_count": 4,
   "metadata": {},
   "outputs": [],
   "source": [
    "def calc_ent(dataframe, c):\n",
    "    target = dataframe.iloc[:,c]\n",
    "    data_length = len(target)\n",
    "    labels = Counter(target)\n",
    "    ent = -sum([(p/data_length)*log(p/data_length, 2) for p in list(labels.values())] )\n",
    "    return ent"
   ]
  },
  {
   "cell_type": "markdown",
   "metadata": {},
   "source": [
    "##### 计算特征拆分之后的信息熵"
   ]
  },
  {
   "cell_type": "code",
   "execution_count": 5,
   "metadata": {},
   "outputs": [],
   "source": [
    "def cond_ent(dataframe, index=0):\n",
    "    data_length = len(dataframe)\n",
    "    feature_set = {}\n",
    "    data_group = dataframe.groupby(dataframe.iloc[:, index])\n",
    "    for group in data_group:\n",
    "        key = group[0]\n",
    "        val = group[1]\n",
    "        feature_set[key] = val\n",
    "    \n",
    "    cond_ent = sum([(len(p)/data_length)*calc_ent(p) for p in feature_set.values()])\n",
    "    return cond_ent"
   ]
  },
  {
   "cell_type": "markdown",
   "metadata": {},
   "source": [
    "##### 计算信息增益率|"
   ]
  },
  {
   "cell_type": "code",
   "execution_count": 6,
   "metadata": {},
   "outputs": [],
   "source": [
    "def info_gain_ratio(ent, cond_ent, iv_ent):\n",
    "    return (ent - cond_ent)/iv_ent"
   ]
  },
  {
   "cell_type": "markdown",
   "metadata": {},
   "source": [
    "##### 计算信息增益率最大的特征"
   ]
  },
  {
   "cell_type": "code",
   "execution_count": 7,
   "metadata": {},
   "outputs": [],
   "source": [
    "def info_gain_train(dataframe):\n",
    "    count = dataframe.shape[1] - 1\n",
    "    ent = calc_ent(dataframe)\n",
    "    best_feature = []\n",
    "    for c in range(count):\n",
    "        c_info_gain = info_gain_ratio(calc_ent(dataframe, -1), cond_ent(dataframe, index=c), calc_ent(dataframe, c))\n",
    "        best_feature.append((c, c_info_gain))\n",
    "        print('特征({}) - info_gain_ratio - {:.3f}'.format(labels[c], c_info_gain))\n",
    "    best_ = max(best_feature, key=lambda x: x[-1])\n",
    "    return '特征({})的信息增益率最大，选择为根节点特征'.format(labels[best_[0]])"
   ]
  },
  {
   "cell_type": "markdown",
   "metadata": {},
   "source": [
    "#### 使用类组织代码"
   ]
  },
  {
   "cell_type": "markdown",
   "metadata": {},
   "source": [
    "##### 构造树结构"
   ]
  },
  {
   "cell_type": "code",
   "execution_count": 8,
   "metadata": {},
   "outputs": [],
   "source": [
    "class Node:\n",
    "    def __init__(self, root=True, label=None, feature_name=None, feature=None):\n",
    "        # 节点处理思路\n",
    "        \"\"\"\n",
    "        1. 对于叶子节点，返回该节点对应的所有的样本标签值\n",
    "        2. 对于中间节点，返回各个特征拆分后对应的子节，并添加到树结构中\n",
    "        \"\"\"\n",
    "        self.root = root               # 当前节点是否是叶子节点\n",
    "        self.label = label             # 如果当前节点是是叶子节点，则返回该节点对应的预测值\n",
    "        self.feature_name = feature_name        # 用作切分的特征的名称\n",
    "        self.feature = feature                  # 用作切分的特征对应的索引值\n",
    "        self.tree = {}                          # 树结构\n",
    "        self.result = {\n",
    "            'label': self.label,\n",
    "            'feature': self.feature,\n",
    "            'tree': self.tree\n",
    "        }\n",
    "        \n",
    "    def __repr__(self):\n",
    "        return '{result}'.format(result = self.result)\n",
    "    \n",
    "    # 训练过程中使用\n",
    "    def add_node(self, val, node):\n",
    "        self.tree[val] = node\n",
    "    \n",
    "    # 预测过程中使用\n",
    "    def predict(self, features):\n",
    "        if self.root is True:\n",
    "            return self.label\n",
    "        return self.tree[features[self.feature]].predict(features)"
   ]
  },
  {
   "cell_type": "markdown",
   "metadata": {},
   "source": [
    "##### 填充树结构"
   ]
  },
  {
   "cell_type": "code",
   "execution_count": 9,
   "metadata": {},
   "outputs": [],
   "source": [
    "class DTree:\n",
    "    def __init__(self, epsilon=0.1):\n",
    "        self.epsilon = epsilon           # 超参数，当信息增益小于某个值的时候不再继续分裂\n",
    "        self._tree = {}\n",
    "        \n",
    "    # 计算信息熵\n",
    "    @staticmethod\n",
    "    def calc_ent(dataframe, c=-1):\n",
    "        target = dataframe.iloc[:,c]\n",
    "        data_length = len(target)\n",
    "        labels = Counter(target)\n",
    "        ent = -sum([(p/data_length)*log(p/data_length, 2) for p in list(labels.values())] )\n",
    "        return ent\n",
    "    \n",
    "    # 计算拆分后特征的信息熵\n",
    "    def cond_ent(self, dataframe, index=0):\n",
    "        data_length = len(dataframe)\n",
    "        feature_set = {}\n",
    "        data_group = dataframe.groupby(dataframe.iloc[:, index])\n",
    "        for group in data_group:\n",
    "            key = group[0]\n",
    "            val = group[1]\n",
    "            feature_set[key] = val\n",
    "\n",
    "        cond_ent = sum([(len(p)/data_length)*self.calc_ent(p) for p in feature_set.values()])\n",
    "        return cond_ent\n",
    "    \n",
    "    # 计算信息增益率\n",
    "    @staticmethod\n",
    "    def info_gain_ratio(ent, cond_ent, iv_ent):\n",
    "        return (ent - cond_ent)/iv_ent\n",
    "    \n",
    "    # 返回信息增益最大的特征\n",
    "    def info_gain_train(self, dataframe):\n",
    "        count = dataframe.shape[1] - 1\n",
    "        ent = self.calc_ent(dataframe)\n",
    "        best_feature = []\n",
    "        for c in range(count):\n",
    "            c_info_gain = self.info_gain_ratio(self.calc_ent(dataframe, -1), self.cond_ent(dataframe, index=c), self.calc_ent(dataframe, c))\n",
    "            best_feature.append((c, c_info_gain))\n",
    "        # 比较大小\n",
    "        best_ = max(best_feature, key=lambda x: x[-1])\n",
    "        return best_\n",
    "    \n",
    "    # 定义训练部分\n",
    "    def train(self, train_data):\n",
    "        y_train, features = train_data.iloc[:, -1], list(train_data.columns)[:-1]\n",
    "        \n",
    "        \"\"\"设置边界条件\"\"\"\n",
    "        # 1.如果节点中的标签属于同一类别，则当前节点为叶子节点\n",
    "        if len(y_train.value_counts()) == 1:\n",
    "            return Node(root=True, label=y_train.iloc[0])\n",
    "        \n",
    "        # 2.如果拆分到最后，没有可以继续拆分的特征了，则将当前节点中数量最大的的类别作为最终的类别\n",
    "        if len(features) == 0:\n",
    "            return Node(root=True, label=y_train.value_counts().sort_values(ascending=False).index[0])\n",
    "        \n",
    "        # 3. 如果当前节点继续拆分之后的信息增益小于阈值，则停止拆分\n",
    "        max_feature, max_info_gain = self.info_gain_train(train_data)\n",
    "        max_feature_name = features[max_feature]\n",
    "        if max_info_gain < self.epsilon:\n",
    "            return Node(root=True, label=y_train.value_counts().sort_values(ascending=False).index[0])\n",
    "        \n",
    "        \"\"\"如果当前节点不满足成为叶子节点的条件，则成为分枝节点，继续拆分\"\"\"\n",
    "        node_tree = Node(root=False, feature_name=max_feature_name, feature=max_feature)\n",
    "        feature_list = train_data[max_feature_name].value_counts().index\n",
    "        # 4. 递归生成树\n",
    "        for f in feature_list:\n",
    "            sub_train_df = train_data.loc[train_data[max_feature_name]==f].drop(max_feature_name, axis=1)\n",
    "            sub_tree = self.train(sub_train_df)\n",
    "            node_tree.add_node(f, sub_tree)\n",
    "        \n",
    "        return node_tree\n",
    "    \n",
    "    def fit(self, train_data):\n",
    "        self._tree = self.train(train_data)\n",
    "        return self._tree\n",
    "    \n",
    "    def predict(self, X_test):\n",
    "        return self._tree.predict(X_test)"
   ]
  },
  {
   "cell_type": "markdown",
   "metadata": {},
   "source": [
    "##### 运行并查看结果"
   ]
  },
  {
   "cell_type": "code",
   "execution_count": 10,
   "metadata": {},
   "outputs": [
    {
     "name": "stdout",
     "output_type": "stream",
     "text": [
      "{'label': None, 'feature': 2, 'tree': {'否': {'label': None, 'feature': 1, 'tree': {'否': {'label': '否', 'feature': None, 'tree': {}}, '是': {'label': '是', 'feature': None, 'tree': {}}}}, '是': {'label': '是', 'feature': None, 'tree': {}}}}\n"
     ]
    },
    {
     "data": {
      "text/plain": [
       "'否'"
      ]
     },
     "execution_count": 10,
     "metadata": {},
     "output_type": "execute_result"
    }
   ],
   "source": [
    "# 创建数据集\n",
    "datasets, labels = create_data()\n",
    "data_df = pd.DataFrame(datasets, columns=labels)\n",
    "\n",
    "# 创建树\n",
    "dt = DTree()\n",
    "tree = dt.fit(data_df)\n",
    "\n",
    "# 查看树结构\n",
    "print(tree)\n",
    "\n",
    "# 预测数据\n",
    "dt.predict(['老年', '否', '否', '一般'])"
   ]
  },
  {
   "cell_type": "code",
   "execution_count": null,
   "metadata": {},
   "outputs": [],
   "source": []
  },
  {
   "cell_type": "code",
   "execution_count": null,
   "metadata": {},
   "outputs": [],
   "source": []
  }
 ],
 "metadata": {
  "kernelspec": {
   "display_name": "Python 3",
   "language": "python",
   "name": "python3"
  },
  "language_info": {
   "codemirror_mode": {
    "name": "ipython",
    "version": 3
   },
   "file_extension": ".py",
   "mimetype": "text/x-python",
   "name": "python",
   "nbconvert_exporter": "python",
   "pygments_lexer": "ipython3",
   "version": "3.7.4"
  },
  "toc": {
   "base_numbering": 1,
   "nav_menu": {},
   "number_sections": true,
   "sideBar": true,
   "skip_h1_title": false,
   "title_cell": "Table of Contents",
   "title_sidebar": "Contents",
   "toc_cell": false,
   "toc_position": {},
   "toc_section_display": true,
   "toc_window_display": false
  }
 },
 "nbformat": 4,
 "nbformat_minor": 2
}
